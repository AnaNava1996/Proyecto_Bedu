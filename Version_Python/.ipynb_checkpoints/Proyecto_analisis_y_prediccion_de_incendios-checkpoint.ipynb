{
 "cells": [
  {
   "cell_type": "markdown",
   "id": "immediate-tattoo",
   "metadata": {},
   "source": [
    "## Análisis y predicción de incendios"
   ]
  },
  {
   "cell_type": "markdown",
   "id": "boring-insured",
   "metadata": {},
   "source": [
    "Los bosques son esenciales para la vida en nuestro planeta, purifican el aire, mantienen el ciclo del agua, regulan la humedad y la temperatura, y son el hogar de numerosas especies animales. En los últimos años se ha incrementado el número de incendios a nivel mundial, así que quisimos hacer una investigación al repecto para conocer más sobre esta problemática, sus causas, y qué medidas se pueden tomar para prevenir estos eventos. Para acotar nuestra investigación, decidimos centrarnos en datos exclusivos de México. "
   ]
  },
  {
   "cell_type": "markdown",
   "id": "active-software",
   "metadata": {},
   "source": [
    "## Datos consultados"
   ]
  },
  {
   "cell_type": "markdown",
   "id": "pursuant-recipe",
   "metadata": {},
   "source": [
    "Decidimos buscar datos de fuentes confiables. Inicialmente el primer set de datos que consultamos, fue \"...\" de la NASA, y pudimos percatarnos que los incendios se concentraban en áreas específicas en distintas épocas del año."
   ]
  },
  {
   "cell_type": "code",
   "execution_count": 8,
   "id": "temporal-roots",
   "metadata": {},
   "outputs": [],
   "source": [
    "# poner aqui lo de la api blablabla con el maps o lo que sea..."
   ]
  },
  {
   "cell_type": "code",
   "execution_count": 5,
   "id": "blind-kennedy",
   "metadata": {},
   "outputs": [
    {
     "name": "stdout",
     "output_type": "stream",
     "text": [
      "Collecting pandas\n",
      "  Downloading pandas-1.2.3-cp38-cp38-manylinux1_x86_64.whl (9.7 MB)\n",
      "\u001b[K     |████████████████████████████████| 9.7 MB 998 kB/s eta 0:00:01     |██▉                             | 870 kB 150 kB/s eta 0:00:59\n",
      "\u001b[?25hRequirement already satisfied: python-dateutil>=2.7.3 in /usr/lib/python3/dist-packages (from pandas) (2.7.3)\n",
      "Requirement already satisfied: pytz>=2017.3 in /usr/lib/python3/dist-packages (from pandas) (2019.3)\n",
      "Collecting numpy>=1.16.5\n",
      "  Downloading numpy-1.20.1-cp38-cp38-manylinux2010_x86_64.whl (15.4 MB)\n",
      "\u001b[K     |████████████████████████████████| 15.4 MB 65 kB/s  eta 0:00:01     |███████████████████████▌        | 11.3 MB 3.5 MB/s eta 0:00:02\n",
      "\u001b[?25hInstalling collected packages: numpy, pandas\n",
      "Successfully installed numpy-1.20.1 pandas-1.2.3\n",
      "Requirement already satisfied: numpy in /home/ana/.local/lib/python3.8/site-packages (1.20.1)\n",
      "Collecting matplotlib\n",
      "  Downloading matplotlib-3.3.4-cp38-cp38-manylinux1_x86_64.whl (11.6 MB)\n",
      "\u001b[K     |████████████████████████████████| 11.6 MB 61 kB/s  eta 0:00:01\n",
      "\u001b[?25hRequirement already satisfied: pyparsing!=2.0.4,!=2.1.2,!=2.1.6,>=2.0.3 in /usr/lib/python3/dist-packages (from matplotlib) (2.4.6)\n",
      "Requirement already satisfied: pillow>=6.2.0 in /usr/lib/python3/dist-packages (from matplotlib) (7.0.0)\n",
      "Requirement already satisfied: python-dateutil>=2.1 in /usr/lib/python3/dist-packages (from matplotlib) (2.7.3)\n",
      "Requirement already satisfied: numpy>=1.15 in /home/ana/.local/lib/python3.8/site-packages (from matplotlib) (1.20.1)\n",
      "Collecting kiwisolver>=1.0.1\n",
      "  Downloading kiwisolver-1.3.1-cp38-cp38-manylinux1_x86_64.whl (1.2 MB)\n",
      "\u001b[K     |████████████████████████████████| 1.2 MB 152 kB/s eta 0:00:01\n",
      "\u001b[?25hCollecting cycler>=0.10\n",
      "  Using cached cycler-0.10.0-py2.py3-none-any.whl (6.5 kB)\n",
      "Requirement already satisfied: six in /usr/lib/python3/dist-packages (from cycler>=0.10->matplotlib) (1.14.0)\n",
      "Installing collected packages: kiwisolver, cycler, matplotlib\n",
      "Successfully installed cycler-0.10.0 kiwisolver-1.3.1 matplotlib-3.3.4\n"
     ]
    }
   ],
   "source": [
    "# Antes de importar debemos instalar las bibliotecas que vamos a usar\n",
    "!pip install pandas\n",
    "!pip install numpy\n",
    "!pip install matplotlib"
   ]
  },
  {
   "cell_type": "code",
   "execution_count": 6,
   "id": "afraid-westminster",
   "metadata": {},
   "outputs": [],
   "source": [
    "#las importación de bibliotecas que vamos a usar\n",
    "import pandas as pd\n",
    "import numpy as np\n",
    "import matplotlib.pyplot as plt"
   ]
  },
  {
   "cell_type": "code",
   "execution_count": null,
   "id": "vanilla-enemy",
   "metadata": {},
   "outputs": [],
   "source": []
  },
  {
   "cell_type": "code",
   "execution_count": null,
   "id": "incoming-literacy",
   "metadata": {},
   "outputs": [],
   "source": []
  },
  {
   "cell_type": "code",
   "execution_count": null,
   "id": "satisfied-barrel",
   "metadata": {},
   "outputs": [],
   "source": []
  },
  {
   "cell_type": "code",
   "execution_count": null,
   "id": "timely-aging",
   "metadata": {},
   "outputs": [],
   "source": []
  },
  {
   "cell_type": "code",
   "execution_count": null,
   "id": "passing-poverty",
   "metadata": {},
   "outputs": [],
   "source": []
  },
  {
   "cell_type": "code",
   "execution_count": null,
   "id": "spectacular-consortium",
   "metadata": {},
   "outputs": [],
   "source": []
  },
  {
   "cell_type": "code",
   "execution_count": null,
   "id": "eight-johns",
   "metadata": {},
   "outputs": [],
   "source": []
  }
 ],
 "metadata": {
  "kernelspec": {
   "display_name": "Python 3",
   "language": "python",
   "name": "python3"
  },
  "language_info": {
   "codemirror_mode": {
    "name": "ipython",
    "version": 3
   },
   "file_extension": ".py",
   "mimetype": "text/x-python",
   "name": "python",
   "nbconvert_exporter": "python",
   "pygments_lexer": "ipython3",
   "version": "3.8.5"
  }
 },
 "nbformat": 4,
 "nbformat_minor": 5
}
